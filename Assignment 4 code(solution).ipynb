{
 "cells": [
  {
   "cell_type": "markdown",
   "metadata": {},
   "source": [
    "# Question 1.1\n",
    "\n",
    "     Write a Python Program(with class concepts) to find the area of the triangle using the below\n",
    "    formula.\n",
    "        area = (s*(s-a)*(s-b)*(s-c)) ** 0.5\n",
    "    Function to take the length of the sides of triangle from user should be defined in the parent\n",
    "    class and function to calculate the area should be defined in subclass"
   ]
  },
  {
   "cell_type": "code",
   "execution_count": 62,
   "metadata": {},
   "outputs": [],
   "source": [
    "class Triangle:\n",
    "    def __init__(self, f_side, s_side, t_side):\n",
    "        self.a = f_side\n",
    "        self.b = s_side\n",
    "        self.c = t_side\n",
    "    def Area(self):\n",
    "        s=(self.a+self.b+self.c)/2\n",
    "        area = (s*(s-self.a)*(s-self.b)*(s-self.c)) ** 0.5\n",
    "        print(\"Area of Triangle with sides : {}, {}, {} is {} \".format(self.a,self.b,self.c,area))"
   ]
  },
  {
   "cell_type": "code",
   "execution_count": 77,
   "metadata": {},
   "outputs": [],
   "source": [
    "obj=Triangle(11,15,19)"
   ]
  },
  {
   "cell_type": "code",
   "execution_count": 78,
   "metadata": {},
   "outputs": [
    {
     "name": "stdout",
     "output_type": "stream",
     "text": [
      "Area of Triangle with sides : 11, 15, 19 is 82.41472865938466 \n"
     ]
    }
   ],
   "source": [
    "obj.Area()"
   ]
  },
  {
   "cell_type": "markdown",
   "metadata": {},
   "source": [
    "# Question Number 1.2 \n",
    "        Write a function filter_long_words() that takes a list of words and an integer n and returns\n",
    "        the list of words that are longer than n."
   ]
  },
  {
   "cell_type": "code",
   "execution_count": 88,
   "metadata": {},
   "outputs": [],
   "source": [
    "\n",
    "def filter_long_words(lst,n):\n",
    "    result = []\n",
    "    for i in lst:\n",
    "        if len(i)>n:\n",
    "            result.append(i)\n",
    "    return result\n",
    "        \n",
    "    "
   ]
  },
  {
   "cell_type": "code",
   "execution_count": 90,
   "metadata": {},
   "outputs": [
    {
     "data": {
      "text/plain": [
       "['Ali', 'Khurram', 'Amaya', 'Abeeha']"
      ]
     },
     "execution_count": 90,
     "metadata": {},
     "output_type": "execute_result"
    }
   ],
   "source": [
    "lst= ['Ali', 'ab','e', 'Khurram', 'Amaya','Abeeha']\n",
    "n=2\n",
    "filter_long_words(lst,n)"
   ]
  },
  {
   "cell_type": "markdown",
   "metadata": {},
   "source": [
    "# Question 2.1 \n",
    "    Write a Python program using function concept that maps list of words into a list of integers\n",
    "    representing the lengths of the corresponding words.\n",
    "\n",
    "    Hint: If a list [ ab,cde,erty] is passed on to the python function output should come as [2,3,4]\n",
    "    Here 2,3 and 4 are the lengths of the words in the list."
   ]
  },
  {
   "cell_type": "code",
   "execution_count": 97,
   "metadata": {},
   "outputs": [],
   "source": [
    "def length_of_words(lst):\n",
    "    result = []\n",
    "    for i in lst:\n",
    "        result.append(len(i))\n",
    "    return result"
   ]
  },
  {
   "cell_type": "code",
   "execution_count": 99,
   "metadata": {},
   "outputs": [
    {
     "data": {
      "text/plain": [
       "[3, 2, 1, 7, 5, 6, 9]"
      ]
     },
     "execution_count": 99,
     "metadata": {},
     "output_type": "execute_result"
    }
   ],
   "source": [
    "lst= ['Ali', 'ab','e', 'Khurram', 'Amaya','Abeeha', 'Sudhanshu']\n",
    "length_of_words(lst)"
   ]
  },
  {
   "cell_type": "markdown",
   "metadata": {},
   "source": [
    "# Question Number 2.2 \n",
    "    Write a Python function which takes a character (i.e. a string of length 1) and returns True if\n",
    "    it is a vowel, False otherwise"
   ]
  },
  {
   "cell_type": "code",
   "execution_count": 159,
   "metadata": {},
   "outputs": [],
   "source": [
    "def Vowel_or_not(chr):\n",
    "    if chr=='a' or chr=='e' or chr=='i' or chr=='o' or chr=='u':\n",
    "        return True\n",
    "    elif chr=='A' or chr=='E' or chr=='I' or chr=='O' or chr=='U':\n",
    "        return True\n",
    "    else:\n",
    "        return False\n",
    "    "
   ]
  },
  {
   "cell_type": "code",
   "execution_count": 163,
   "metadata": {},
   "outputs": [
    {
     "data": {
      "text/plain": [
       "True"
      ]
     },
     "execution_count": 163,
     "metadata": {},
     "output_type": "execute_result"
    }
   ],
   "source": [
    "Vowel_or_not('U')"
   ]
  },
  {
   "cell_type": "code",
   "execution_count": null,
   "metadata": {},
   "outputs": [],
   "source": []
  },
  {
   "cell_type": "code",
   "execution_count": null,
   "metadata": {},
   "outputs": [],
   "source": []
  }
 ],
 "metadata": {
  "kernelspec": {
   "display_name": "Python 3",
   "language": "python",
   "name": "python3"
  },
  "language_info": {
   "codemirror_mode": {
    "name": "ipython",
    "version": 3
   },
   "file_extension": ".py",
   "mimetype": "text/x-python",
   "name": "python",
   "nbconvert_exporter": "python",
   "pygments_lexer": "ipython3",
   "version": "3.7.4"
  }
 },
 "nbformat": 4,
 "nbformat_minor": 2
}
